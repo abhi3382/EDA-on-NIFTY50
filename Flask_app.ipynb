{
  "nbformat": 4,
  "nbformat_minor": 0,
  "metadata": {
    "colab": {
      "provenance": []
    },
    "kernelspec": {
      "name": "python3",
      "display_name": "Python 3"
    },
    "language_info": {
      "name": "python"
    }
  },
  "cells": [
    {
      "cell_type": "code",
      "execution_count": 1,
      "metadata": {
        "colab": {
          "base_uri": "https://localhost:8080/"
        },
        "id": "jD9cXLC6khaC",
        "outputId": "5536a7b1-7983-460f-ada3-9a1d3dd8c679"
      },
      "outputs": [
        {
          "output_type": "stream",
          "name": "stdout",
          "text": [
            "Looking in indexes: https://pypi.org/simple, https://us-python.pkg.dev/colab-wheels/public/simple/\n",
            "Collecting flask_ngrok\n",
            "  Downloading flask_ngrok-0.0.25-py3-none-any.whl (3.1 kB)\n",
            "Requirement already satisfied: Flask>=0.8 in /usr/local/lib/python3.8/dist-packages (from flask_ngrok) (1.1.4)\n",
            "Requirement already satisfied: requests in /usr/local/lib/python3.8/dist-packages (from flask_ngrok) (2.23.0)\n",
            "Requirement already satisfied: click<8.0,>=5.1 in /usr/local/lib/python3.8/dist-packages (from Flask>=0.8->flask_ngrok) (7.1.2)\n",
            "Requirement already satisfied: Jinja2<3.0,>=2.10.1 in /usr/local/lib/python3.8/dist-packages (from Flask>=0.8->flask_ngrok) (2.11.3)\n",
            "Requirement already satisfied: Werkzeug<2.0,>=0.15 in /usr/local/lib/python3.8/dist-packages (from Flask>=0.8->flask_ngrok) (1.0.1)\n",
            "Requirement already satisfied: itsdangerous<2.0,>=0.24 in /usr/local/lib/python3.8/dist-packages (from Flask>=0.8->flask_ngrok) (1.1.0)\n",
            "Requirement already satisfied: MarkupSafe>=0.23 in /usr/local/lib/python3.8/dist-packages (from Jinja2<3.0,>=2.10.1->Flask>=0.8->flask_ngrok) (2.0.1)\n",
            "Requirement already satisfied: urllib3!=1.25.0,!=1.25.1,<1.26,>=1.21.1 in /usr/local/lib/python3.8/dist-packages (from requests->flask_ngrok) (1.24.3)\n",
            "Requirement already satisfied: chardet<4,>=3.0.2 in /usr/local/lib/python3.8/dist-packages (from requests->flask_ngrok) (3.0.4)\n",
            "Requirement already satisfied: idna<3,>=2.5 in /usr/local/lib/python3.8/dist-packages (from requests->flask_ngrok) (2.10)\n",
            "Requirement already satisfied: certifi>=2017.4.17 in /usr/local/lib/python3.8/dist-packages (from requests->flask_ngrok) (2022.12.7)\n",
            "Installing collected packages: flask-ngrok\n",
            "Successfully installed flask-ngrok-0.0.25\n"
          ]
        }
      ],
      "source": [
        "# !pip install flask_ngrok"
      ]
    },
    {
      "cell_type": "code",
      "source": [
        "# !pip install pyngrok"
      ],
      "metadata": {
        "colab": {
          "base_uri": "https://localhost:8080/"
        },
        "id": "mFG6FFuepNsZ",
        "outputId": "9c5f562c-df3d-4f9b-e9f0-5d6cf2b562e1"
      },
      "execution_count": 12,
      "outputs": [
        {
          "output_type": "stream",
          "name": "stdout",
          "text": [
            "Looking in indexes: https://pypi.org/simple, https://us-python.pkg.dev/colab-wheels/public/simple/\n",
            "Collecting pyngrok\n",
            "  Downloading pyngrok-5.2.1.tar.gz (761 kB)\n",
            "\u001b[K     |████████████████████████████████| 761 kB 5.1 MB/s \n",
            "\u001b[?25hRequirement already satisfied: PyYAML in /usr/local/lib/python3.8/dist-packages (from pyngrok) (6.0)\n",
            "Building wheels for collected packages: pyngrok\n",
            "  Building wheel for pyngrok (setup.py) ... \u001b[?25l\u001b[?25hdone\n",
            "  Created wheel for pyngrok: filename=pyngrok-5.2.1-py3-none-any.whl size=19792 sha256=64cb9a2bef4570a1fe7d26676ce69a4e4a876d1d52b8e22c22806fc08b5736d8\n",
            "  Stored in directory: /root/.cache/pip/wheels/5d/f2/70/526da675d32f17577ec47ac4c663084efe39d47c826b6c3bb1\n",
            "Successfully built pyngrok\n",
            "Installing collected packages: pyngrok\n",
            "Successfully installed pyngrok-5.2.1\n"
          ]
        }
      ]
    },
    {
      "cell_type": "code",
      "source": [
        "import flask_ngrok"
      ],
      "metadata": {
        "id": "TrERSrZbmizQ"
      },
      "execution_count": 4,
      "outputs": []
    },
    {
      "cell_type": "code",
      "source": [
        "port_no = 5000"
      ],
      "metadata": {
        "id": "8cW4q_qCpUY5"
      },
      "execution_count": 14,
      "outputs": []
    },
    {
      "cell_type": "code",
      "source": [
        "from flask import * \n",
        "from flask_ngrok import run_with_ngrok\n",
        "from pyngrok import ngrok"
      ],
      "metadata": {
        "id": "y4KMw1OEmOYJ"
      },
      "execution_count": 13,
      "outputs": []
    },
    {
      "cell_type": "code",
      "source": [
        "from flask import Flask,request, url_for, redirect, render_template\n",
        "import pickle\n",
        "import numpy as np\n",
        "from sklearn.preprocessing import MinMaxScaler\n",
        "import pandas as pd\n",
        "from bs4 import BeautifulSoup\n",
        "import requests\n",
        "from lxml import etree\n",
        "import re\n",
        "\n",
        "app = Flask(__name__)\n",
        "ngrok.set_auth_token(\"2JDNjznpCvz6dO2azRMYoBOtPSl_3zHP68shUQqtQNjBNNQvJ\")\n",
        "public_url =  ngrok.connect(port_no).public_url\n",
        "url = 'https://finance.yahoo.com/quote/%5ENSEI/history/'\n",
        "HEADERS = ({'User-Agent':\n",
        "            'Mozilla/5.0 (X11; Linux x86_64) AppleWebKit/537.36 \\\n",
        "            (KHTML, like Gecko) Chrome/44.0.2403.157 Safari/537.36',\\\n",
        "            'Accept-Language': 'en-US, en;q=0.5'})\n",
        "\n",
        "page = requests.get(url,headers=HEADERS, data={'ajax': True, 'mobile': False})\n",
        "soup = BeautifulSoup(page.content,\"html.parser\")\n",
        "dom = etree.HTML(str(soup))\n",
        "\n",
        "model = pickle.load(open('model.pkl','rb'))\n",
        "\n",
        "def download_nifty_data():\n",
        "  close_list = []\n",
        "  for i in range(1,83):\n",
        "    i = str(i)\n",
        "    n = dom.xpath('/html/body/div[1]/div/div/div[1]/div/div[3]/div[1]/div/div[2]/div/div/section/div[2]/table/tbody/tr['+i+']/td[6]/span')[0].text\n",
        "    n = float(re.sub(\",\",\"\",n))      # Removing commas from closing price and converting it as float datatype\n",
        "    close_list.append(n)\n",
        "  return close_list\n",
        "\n",
        "\n",
        "def create_time_data(dataset):\n",
        "    X = []\n",
        "    Y = []\n",
        "    for i in range(len(dataset)-101):\n",
        "        a = dataset[i:(i+100),0]\n",
        "        X.append(a)\n",
        "        Y.append(dataset[i + 100,0])\n",
        "    return np.array(X), np.array(Y)\n",
        "\n",
        "@app.route('/')\n",
        "def open_site():\n",
        "    return render_template(\"index.html\")\n",
        "\n",
        "@app.route('/predict',methods=['POST'])\n",
        "def make_preds():\n",
        "    last_data = []\n",
        "    last_data = download_nifty_data()\n",
        "    test_df = pd.DataFrame()\n",
        "    test_df['Close'] = last_data\n",
        "    scaler = MinMaxScaler(feature_range=(0, 1))\n",
        "    test_df = test_df.iloc[::-1]  # inverting dataframe\n",
        "    test_df = scaler.fit_transform(np.array(test_df).reshape(-1, 1))\n",
        "    X, Y = create_time_data(test_df)  # Converting into X numpy array with 100 features and a Y numpy array.\n",
        "    print(X.shape)\n",
        "    X = X.reshape(X.shape[0], X.shape[1], 1)  # Reshaping array for LSTM model\n",
        "    X = X[-1:]\n",
        "    fin_pred = model.predict(X)\n",
        "    fin_pred = scaler.inverse_transform(fin_pred)\n",
        "    fin_pred = int(fin_pred[0])\n",
        "    return render_template('index.html', prediction_text='Nifty prediction for tomorrow is: {}'.format(fin_pred))\n",
        "\n"
      ],
      "metadata": {
        "colab": {
          "base_uri": "https://localhost:8080/"
        },
        "id": "YTYSs8nwmbSs",
        "outputId": "bda3b1bb-42fc-415e-b5ca-40fcc047b6ea"
      },
      "execution_count": 16,
      "outputs": [
        {
          "output_type": "stream",
          "name": "stdout",
          "text": []
        }
      ]
    },
    {
      "cell_type": "code",
      "source": [
        "app.run(port=port_no)"
      ],
      "metadata": {
        "colab": {
          "base_uri": "https://localhost:8080/"
        },
        "id": "j5b2XLC7nMq6",
        "outputId": "1ab192ce-74d9-43ad-9b7b-9b786acb6b9a"
      },
      "execution_count": 21,
      "outputs": [
        {
          "output_type": "stream",
          "name": "stdout",
          "text": [
            " * Serving Flask app \"__main__\" (lazy loading)\n",
            " * Environment: production\n",
            "\u001b[31m   WARNING: This is a development server. Do not use it in a production deployment.\u001b[0m\n",
            "\u001b[2m   Use a production WSGI server instead.\u001b[0m\n",
            " * Debug mode: off\n"
          ]
        },
        {
          "output_type": "stream",
          "name": "stderr",
          "text": [
            "INFO:werkzeug: * Running on http://127.0.0.1:5000/ (Press CTRL+C to quit)\n"
          ]
        }
      ]
    }
  ]
}